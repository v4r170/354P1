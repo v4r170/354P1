{
 "cells": [
  {
   "cell_type": "markdown",
   "id": "b6107d1b",
   "metadata": {},
   "source": [
    "# 1.b Percentiles y Cuartiles (numpy y pandas)"
   ]
  },
  {
   "cell_type": "code",
   "execution_count": 2,
   "id": "91c04f7d",
   "metadata": {},
   "outputs": [],
   "source": [
    "import numpy as np"
   ]
  },
  {
   "cell_type": "code",
   "execution_count": 1,
   "id": "ed63ac13",
   "metadata": {},
   "outputs": [
    {
     "data": {
      "text/html": [
       "<div>\n",
       "<style scoped>\n",
       "    .dataframe tbody tr th:only-of-type {\n",
       "        vertical-align: middle;\n",
       "    }\n",
       "\n",
       "    .dataframe tbody tr th {\n",
       "        vertical-align: top;\n",
       "    }\n",
       "\n",
       "    .dataframe thead th {\n",
       "        text-align: right;\n",
       "    }\n",
       "</style>\n",
       "<table border=\"1\" class=\"dataframe\">\n",
       "  <thead>\n",
       "    <tr style=\"text-align: right;\">\n",
       "      <th></th>\n",
       "      <th>edad</th>\n",
       "      <th>numero_partos</th>\n",
       "      <th>tiempo_parto</th>\n",
       "      <th>presion_sanguinea</th>\n",
       "      <th>problema_corazon</th>\n",
       "      <th>class</th>\n",
       "    </tr>\n",
       "  </thead>\n",
       "  <tbody>\n",
       "    <tr>\n",
       "      <th>0</th>\n",
       "      <td>22</td>\n",
       "      <td>1</td>\n",
       "      <td>0</td>\n",
       "      <td>2</td>\n",
       "      <td>0</td>\n",
       "      <td>0</td>\n",
       "    </tr>\n",
       "    <tr>\n",
       "      <th>1</th>\n",
       "      <td>26</td>\n",
       "      <td>2</td>\n",
       "      <td>0</td>\n",
       "      <td>1</td>\n",
       "      <td>0</td>\n",
       "      <td>1</td>\n",
       "    </tr>\n",
       "    <tr>\n",
       "      <th>2</th>\n",
       "      <td>26</td>\n",
       "      <td>2</td>\n",
       "      <td>1</td>\n",
       "      <td>1</td>\n",
       "      <td>0</td>\n",
       "      <td>0</td>\n",
       "    </tr>\n",
       "    <tr>\n",
       "      <th>3</th>\n",
       "      <td>28</td>\n",
       "      <td>1</td>\n",
       "      <td>0</td>\n",
       "      <td>2</td>\n",
       "      <td>0</td>\n",
       "      <td>0</td>\n",
       "    </tr>\n",
       "    <tr>\n",
       "      <th>4</th>\n",
       "      <td>22</td>\n",
       "      <td>2</td>\n",
       "      <td>0</td>\n",
       "      <td>1</td>\n",
       "      <td>0</td>\n",
       "      <td>1</td>\n",
       "    </tr>\n",
       "  </tbody>\n",
       "</table>\n",
       "</div>"
      ],
      "text/plain": [
       "   edad  numero_partos  tiempo_parto  presion_sanguinea  problema_corazon  \\\n",
       "0    22              1             0                  2                 0   \n",
       "1    26              2             0                  1                 0   \n",
       "2    26              2             1                  1                 0   \n",
       "3    28              1             0                  2                 0   \n",
       "4    22              2             0                  1                 0   \n",
       "\n",
       "   class  \n",
       "0      0  \n",
       "1      1  \n",
       "2      0  \n",
       "3      0  \n",
       "4      1  "
      ]
     },
     "execution_count": 1,
     "metadata": {},
     "output_type": "execute_result"
    }
   ],
   "source": [
    "import pandas as pd \n",
    "df = pd.read_csv(\"caesarian.txt\")\n",
    "df.head()"
   ]
  },
  {
   "cell_type": "code",
   "execution_count": 7,
   "id": "39ca4297",
   "metadata": {},
   "outputs": [
    {
     "name": "stdout",
     "output_type": "stream",
     "text": [
      "25.0\n",
      "1.0\n",
      "0.0\n",
      "0.75\n",
      "0.0\n"
     ]
    }
   ],
   "source": [
    "print(np.percentile(df[\"edad\"],25))\n",
    "print(np.percentile(df[\"numero_partos\"],25))\n",
    "print(np.percentile(df[\"tiempo_parto\"],25))\n",
    "print(np.percentile(df[\"presion_sanguinea\"],25))\n",
    "print(np.percentile(df[\"problema_corazon\"],25))"
   ]
  },
  {
   "cell_type": "markdown",
   "id": "10e2f003",
   "metadata": {},
   "source": [
    "las mujeres que tienen 25 años o menores representan el 25% de los datos\n",
    "\n",
    "las mujeres que tubieron por lo menos 1 hijo representan el 25% de los datos\n",
    "\n",
    "las mujeres que estan a tiempo con el parto representan el 25% de los datos (0=Oportuno,1=Prematuro,2=Retrasado)\n",
    "\n",
    "las mujeres que tienen presion baja representan el 25% de los datos (0=baja,1=normal,2=alta)\n",
    "\n",
    "las mujeres que tienen no tienen problemas del corazon representan el 25% de los datos (0=apto,1=inapto)"
   ]
  },
  {
   "cell_type": "code",
   "execution_count": 8,
   "id": "25adb83d",
   "metadata": {},
   "outputs": [
    {
     "name": "stdout",
     "output_type": "stream",
     "text": [
      "27.0\n",
      "1.0\n",
      "0.0\n",
      "1.0\n",
      "0.0\n"
     ]
    }
   ],
   "source": [
    "print(np.percentile(df[\"edad\"],50))\n",
    "print(np.percentile(df[\"numero_partos\"],50))\n",
    "print(np.percentile(df[\"tiempo_parto\"],50))\n",
    "print(np.percentile(df[\"presion_sanguinea\"],50))\n",
    "print(np.percentile(df[\"problema_corazon\"],50))"
   ]
  },
  {
   "cell_type": "markdown",
   "id": "9c6daf70",
   "metadata": {},
   "source": [
    "las mujeres que tienen 27 años o menores representan el 50% de los datos\n",
    "\n",
    "las mujeres que tubieron por lo menos 1 hijo representan el 50% de los datos\n",
    "\n",
    "las mujeres que estan a tiempo con el parto representan el 50% de los datos (0=Oportuno,1=Prematuro,2=Retrasado)\n",
    "\n",
    "las mujeres que tienen presion baja o normal representan el 50% de los datos (0=baja,1=normal,2=alta)\n",
    "\n",
    "las mujeres que tienen no tienen problemas del corazon representan el 50% de los datos (0=apto,1=inapto)"
   ]
  },
  {
   "cell_type": "code",
   "execution_count": null,
   "id": "e3def319",
   "metadata": {},
   "outputs": [],
   "source": []
  }
 ],
 "metadata": {
  "kernelspec": {
   "display_name": "Python 3 (ipykernel)",
   "language": "python",
   "name": "python3"
  },
  "language_info": {
   "codemirror_mode": {
    "name": "ipython",
    "version": 3
   },
   "file_extension": ".py",
   "mimetype": "text/x-python",
   "name": "python",
   "nbconvert_exporter": "python",
   "pygments_lexer": "ipython3",
   "version": "3.9.7"
  }
 },
 "nbformat": 4,
 "nbformat_minor": 5
}
