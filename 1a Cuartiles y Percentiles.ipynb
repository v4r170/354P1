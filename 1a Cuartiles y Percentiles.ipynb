{
 "cells": [
  {
   "cell_type": "markdown",
   "id": "230d98d3",
   "metadata": {},
   "source": [
    "# 1.a Percentiles y Cuartiles"
   ]
  },
  {
   "cell_type": "code",
   "execution_count": 7,
   "id": "2b3b6860",
   "metadata": {},
   "outputs": [],
   "source": [
    "import math"
   ]
  },
  {
   "cell_type": "code",
   "execution_count": 1,
   "id": "ee0b0b77",
   "metadata": {},
   "outputs": [],
   "source": [
    "def percentil(arry, percentile):\n",
    "    size = len(arry)\n",
    "    return sorted(arry)[int(math.ceil((size * percentile) / 100)) - 1]"
   ]
  },
  {
   "cell_type": "markdown",
   "id": "7e1f76fb",
   "metadata": {},
   "source": [
    "Columnas Data Set"
   ]
  },
  {
   "cell_type": "code",
   "execution_count": 2,
   "id": "f74c3d25",
   "metadata": {},
   "outputs": [],
   "source": [
    "col_edad=[22,26,26,28,22,26,27,32,28,27,36,33,23,20,29,25,25,20,37,24,26,33,25,27,20,18,18,30,32,26,25,40,32,27,26,28,33,31,31,26,27,19,36,22,36,28,26,32,26,29,33,21,30,35,29,25,32,21,26,30,22,19,32,32,31,35,28,29,25,27,17,29,28,32,38,27,33,29,25,24]"
   ]
  },
  {
   "cell_type": "code",
   "execution_count": 3,
   "id": "3fd9452b",
   "metadata": {},
   "outputs": [],
   "source": [
    "col_numero_partos = [1,2,2,1,2,1,2,3,2,1,1,1,1,1,1,1,1,1,3,1,1,2,1,1,1,1,1,1,1,2,1,1,2,2,2,3,1,2,1,1,1,1,1,1,4,3,1,2,2,2,3,2,3,1,2,2,3,1,1,2,1,1,2,2,1,2,3,2,1,2,1,1,2,3,3,2,4,2,1,2]"
   ]
  },
  {
   "cell_type": "code",
   "execution_count": 4,
   "id": "4d2231ee",
   "metadata": {},
   "outputs": [],
   "source": [
    "col_tiempo_parto = [0,0,1,0,0,1,0,0,0,1,0,1,1,0,2,2,0,2,0,2,1,0,1,0,0,0,1,0,0,1,0,0,0,0,2,0,1,2,0,2,0,0,1,0,0,0,0,0,2,0,2,1,2,1,0,0,1,0,0,1,2,0,0,0,2,0,0,0,0,2,0,2,0,0,2,1,0,1,2,2]"
   ]
  },
  {
   "cell_type": "code",
   "execution_count": 5,
   "id": "ce6d0729",
   "metadata": {},
   "outputs": [],
   "source": [
    "col_presion_sangre = [2,1,1,2,1,0,1,1,1,1,1,0,1,1,0,0,1,2,1,0,1,0,2,0,2,1,2,1,2,1,0,1,2,1,1,2,1,1,1,0,2,1,2,1,2,1,1,2,1,0,1,0,2,0,1,1,0,0,2,2,2,1,0,1,2,1,1,1,0,0,0,0,1,1,2,1,1,2,0,1]"
   ]
  },
  {
   "cell_type": "code",
   "execution_count": 6,
   "id": "decb29b2",
   "metadata": {},
   "outputs": [],
   "source": [
    "col_problema_corazon = [0,0,0,0,0,0,0,0,0,0,0,0,0,1,1,0,0,0,1,1,0,1,0,1,1,0,1,0,1,1,0,1,1,1,0,0,0,0,0,1,1,0,0,0,1,1,0,1,0,1,1,1,0,0,1,0,1,0,0,1,0,0,0,1,1,0,0,1,0,0,0,1,0,1,1,0,0,0,0,0]"
   ]
  },
  {
   "cell_type": "markdown",
   "id": "5695f1cc",
   "metadata": {},
   "source": [
    "a.\tEl cálculo del 1er cuartil de datos, el percentil 50 por columna; explique qué significa en cada caso mediante Python sin uso de librerías"
   ]
  },
  {
   "cell_type": "markdown",
   "id": "2f0850e0",
   "metadata": {},
   "source": [
    "1º Cuartil = 25º Percentil"
   ]
  },
  {
   "cell_type": "code",
   "execution_count": 14,
   "id": "7edf2c53",
   "metadata": {},
   "outputs": [
    {
     "name": "stdout",
     "output_type": "stream",
     "text": [
      "25\n",
      "1\n",
      "0\n",
      "0\n",
      "0\n"
     ]
    }
   ],
   "source": [
    "print(percentil(col_edad,25))\n",
    "print(percentil(col_numero_partos,25))\n",
    "print(percentil(col_tiempo_parto,25))\n",
    "print(percentil(col_presion_sangre,25))\n",
    "print(percentil(col_problema_corazon,25))"
   ]
  },
  {
   "cell_type": "markdown",
   "id": "b5a490a4",
   "metadata": {},
   "source": [
    "las mujeres que tienen 25 años o menores representan el 25% de los datos\n",
    "\n",
    "las mujeres que tubieron por lo menos 1 hijo representan el 25% de los datos\n",
    "\n",
    "las mujeres que estan a tiempo con el parto representan el 25% de los datos (0=Oportuno,1=Prematuro,2=Retrasado)\n",
    "\n",
    "las mujeres que tienen presion baja representan el 25% de los datos (0=baja,1=normal,2=alta)\n",
    "\n",
    "las mujeres que tienen no tienen problemas del corazon representan el 25% de los datos (0=apto,1=inapto)"
   ]
  },
  {
   "cell_type": "markdown",
   "id": "f7aa0aa1",
   "metadata": {},
   "source": [
    "50º Percentil = Mediana"
   ]
  },
  {
   "cell_type": "code",
   "execution_count": 15,
   "id": "dfa9fb00",
   "metadata": {},
   "outputs": [
    {
     "name": "stdout",
     "output_type": "stream",
     "text": [
      "27\n",
      "1\n",
      "0\n",
      "1\n",
      "0\n"
     ]
    }
   ],
   "source": [
    "print(percentil(col_edad,50))\n",
    "print(percentil(col_numero_partos,50))\n",
    "print(percentil(col_tiempo_parto,50))\n",
    "print(percentil(col_presion_sangre,50))\n",
    "print(percentil(col_problema_corazon,50))"
   ]
  },
  {
   "cell_type": "markdown",
   "id": "9164cd4b",
   "metadata": {},
   "source": [
    "las mujeres que tienen 27 años o menores representan el 50% de los datos\n",
    "\n",
    "las mujeres que tubieron por lo menos 1 hijo representan el 50% de los datos\n",
    "\n",
    "las mujeres que estan a tiempo con el parto representan el 50% de los datos (0=Oportuno,1=Prematuro,2=Retrasado)\n",
    "\n",
    "las mujeres que tienen presion baja o normal representan el 50% de los datos (0=baja,1=normal,2=alta)\n",
    "\n",
    "las mujeres que tienen no tienen problemas del corazon representan el 50% de los datos (0=apto,1=inapto)"
   ]
  },
  {
   "cell_type": "code",
   "execution_count": null,
   "id": "77989f6f",
   "metadata": {},
   "outputs": [],
   "source": []
  }
 ],
 "metadata": {
  "kernelspec": {
   "display_name": "Python 3 (ipykernel)",
   "language": "python",
   "name": "python3"
  },
  "language_info": {
   "codemirror_mode": {
    "name": "ipython",
    "version": 3
   },
   "file_extension": ".py",
   "mimetype": "text/x-python",
   "name": "python",
   "nbconvert_exporter": "python",
   "pygments_lexer": "ipython3",
   "version": "3.9.7"
  }
 },
 "nbformat": 4,
 "nbformat_minor": 5
}
