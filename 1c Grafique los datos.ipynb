{
 "cells": [
  {
   "cell_type": "markdown",
   "id": "83fd0869",
   "metadata": {},
   "source": [
    "# 1.c Grafique los datos y explique su comportamiento (PYTHON)"
   ]
  },
  {
   "cell_type": "code",
   "execution_count": 2,
   "id": "73e66001",
   "metadata": {},
   "outputs": [
    {
     "data": {
      "text/html": [
       "<div>\n",
       "<style scoped>\n",
       "    .dataframe tbody tr th:only-of-type {\n",
       "        vertical-align: middle;\n",
       "    }\n",
       "\n",
       "    .dataframe tbody tr th {\n",
       "        vertical-align: top;\n",
       "    }\n",
       "\n",
       "    .dataframe thead th {\n",
       "        text-align: right;\n",
       "    }\n",
       "</style>\n",
       "<table border=\"1\" class=\"dataframe\">\n",
       "  <thead>\n",
       "    <tr style=\"text-align: right;\">\n",
       "      <th></th>\n",
       "      <th>edad</th>\n",
       "      <th>numero_partos</th>\n",
       "      <th>tiempo_parto</th>\n",
       "      <th>presion_sanguinea</th>\n",
       "      <th>problema_corazon</th>\n",
       "      <th>class</th>\n",
       "    </tr>\n",
       "  </thead>\n",
       "  <tbody>\n",
       "    <tr>\n",
       "      <th>0</th>\n",
       "      <td>22</td>\n",
       "      <td>1</td>\n",
       "      <td>0</td>\n",
       "      <td>2</td>\n",
       "      <td>0</td>\n",
       "      <td>0</td>\n",
       "    </tr>\n",
       "    <tr>\n",
       "      <th>1</th>\n",
       "      <td>26</td>\n",
       "      <td>2</td>\n",
       "      <td>0</td>\n",
       "      <td>1</td>\n",
       "      <td>0</td>\n",
       "      <td>1</td>\n",
       "    </tr>\n",
       "    <tr>\n",
       "      <th>2</th>\n",
       "      <td>26</td>\n",
       "      <td>2</td>\n",
       "      <td>1</td>\n",
       "      <td>1</td>\n",
       "      <td>0</td>\n",
       "      <td>0</td>\n",
       "    </tr>\n",
       "    <tr>\n",
       "      <th>3</th>\n",
       "      <td>28</td>\n",
       "      <td>1</td>\n",
       "      <td>0</td>\n",
       "      <td>2</td>\n",
       "      <td>0</td>\n",
       "      <td>0</td>\n",
       "    </tr>\n",
       "    <tr>\n",
       "      <th>4</th>\n",
       "      <td>22</td>\n",
       "      <td>2</td>\n",
       "      <td>0</td>\n",
       "      <td>1</td>\n",
       "      <td>0</td>\n",
       "      <td>1</td>\n",
       "    </tr>\n",
       "  </tbody>\n",
       "</table>\n",
       "</div>"
      ],
      "text/plain": [
       "   edad  numero_partos  tiempo_parto  presion_sanguinea  problema_corazon  \\\n",
       "0    22              1             0                  2                 0   \n",
       "1    26              2             0                  1                 0   \n",
       "2    26              2             1                  1                 0   \n",
       "3    28              1             0                  2                 0   \n",
       "4    22              2             0                  1                 0   \n",
       "\n",
       "   class  \n",
       "0      0  \n",
       "1      1  \n",
       "2      0  \n",
       "3      0  \n",
       "4      1  "
      ]
     },
     "execution_count": 2,
     "metadata": {},
     "output_type": "execute_result"
    }
   ],
   "source": [
    "import pandas as pd \n",
    "df = pd.read_csv(\"caesarian.txt\")\n",
    "df.head()"
   ]
  },
  {
   "cell_type": "code",
   "execution_count": 4,
   "id": "07ef3531",
   "metadata": {},
   "outputs": [
    {
     "name": "stdout",
     "output_type": "stream",
     "text": [
      "[26, 32, 25, 27, 29, 28, 33, 22, 20, 36, 30, 31, 21, 24, 18, 35, 19, 17, 37, 40, 23, 38]\n",
      "[10, 8, 7, 7, 6, 6, 5, 4, 3, 3, 3, 3, 2, 2, 2, 2, 2, 1, 1, 1, 1, 1]\n"
     ]
    },
    {
     "data": {
      "text/plain": [
       "<function matplotlib.pyplot.show(close=None, block=None)>"
      ]
     },
     "execution_count": 4,
     "metadata": {},
     "output_type": "execute_result"
    },
    {
     "data": {
      "image/png": "[encoded data removed]",
      "text/plain": [
       "<Figure size 432x288 with 1 Axes>"
      ]
     },
     "metadata": {
      "needs_background": "light"
     },
     "output_type": "display_data"
    }
   ],
   "source": [
    "import matplotlib.pyplot as plt\n",
    "valores_x=df[\"edad\"].value_counts().index.tolist()\n",
    "valores_y=df[\"edad\"].value_counts().tolist()\n",
    "print(valores_x)\n",
    "print(valores_y)\n",
    "plt.bar(valores_x,valores_y)\n",
    "plt.show"
   ]
  },
  {
   "cell_type": "markdown",
   "id": "8bd43c47",
   "metadata": {},
   "source": [
    "La edad de las mujeres embarazadas con mayor frecuencia esta en 26 años, existen mas embarazos entre los 25 y 33 años"
   ]
  },
  {
   "cell_type": "code",
   "execution_count": 5,
   "id": "35450acc",
   "metadata": {},
   "outputs": [
    {
     "name": "stdout",
     "output_type": "stream",
     "text": [
      "[1, 2, 3, 4]\n",
      "[41, 27, 10, 2]\n"
     ]
    },
    {
     "data": {
      "text/plain": [
       "<function matplotlib.pyplot.show(close=None, block=None)>"
      ]
     },
     "execution_count": 5,
     "metadata": {},
     "output_type": "execute_result"
    },
    {
     "data": {
      "image/png": "[encoded data removed]",
      "text/plain": [
       "<Figure size 432x288 with 1 Axes>"
      ]
     },
     "metadata": {
      "needs_background": "light"
     },
     "output_type": "display_data"
    }
   ],
   "source": [
    "import matplotlib.pyplot as plt\n",
    "valores_x=df[\"numero_partos\"].value_counts().index.tolist()\n",
    "valores_y=df[\"numero_partos\"].value_counts().tolist()\n",
    "print(valores_x)\n",
    "print(valores_y)\n",
    "plt.bar(valores_x,valores_y)\n",
    "plt.show"
   ]
  },
  {
   "cell_type": "markdown",
   "id": "3a7c82bc",
   "metadata": {},
   "source": [
    "Se puede observar que hay mas mujeres con el primer parto, esta frecuencia va reduciendo segun la cantida de hijos"
   ]
  },
  {
   "cell_type": "code",
   "execution_count": 7,
   "id": "0bd25575",
   "metadata": {},
   "outputs": [
    {
     "name": "stdout",
     "output_type": "stream",
     "text": [
      "[0, 1, 2]\n",
      "[46, 17, 17]\n"
     ]
    },
    {
     "data": {
      "text/plain": [
       "<function matplotlib.pyplot.show(close=None, block=None)>"
      ]
     },
     "execution_count": 7,
     "metadata": {},
     "output_type": "execute_result"
    },
    {
     "data": {
      "image/png": "[encoded data removed]",
      "text/plain": [
       "<Figure size 432x288 with 1 Axes>"
      ]
     },
     "metadata": {
      "needs_background": "light"
     },
     "output_type": "display_data"
    }
   ],
   "source": [
    "import matplotlib.pyplot as plt\n",
    "valores_x=df[\"tiempo_parto\"].value_counts().index.tolist()\n",
    "valores_y=df[\"tiempo_parto\"].value_counts().tolist()\n",
    "print(valores_x)\n",
    "print(valores_y)\n",
    "plt.bar(valores_x,valores_y)\n",
    "plt.show"
   ]
  },
  {
   "cell_type": "markdown",
   "id": "8d8f1f73",
   "metadata": {},
   "source": [
    "Se puede observar que la mayoria esta en un tiempo oportuno, tambien que el numero de prematuros y retrazados es el mismo "
   ]
  },
  {
   "cell_type": "code",
   "execution_count": 8,
   "id": "70fdb9dc",
   "metadata": {},
   "outputs": [
    {
     "name": "stdout",
     "output_type": "stream",
     "text": [
      "[1, 2, 0]\n",
      "[40, 20, 20]\n"
     ]
    },
    {
     "data": {
      "text/plain": [
       "<function matplotlib.pyplot.show(close=None, block=None)>"
      ]
     },
     "execution_count": 8,
     "metadata": {},
     "output_type": "execute_result"
    },
    {
     "data": {
      "image/png": "[encoded data removed]",
      "text/plain": [
       "<Figure size 432x288 with 1 Axes>"
      ]
     },
     "metadata": {
      "needs_background": "light"
     },
     "output_type": "display_data"
    }
   ],
   "source": [
    "import matplotlib.pyplot as plt\n",
    "valores_x=df[\"presion_sanguinea\"].value_counts().index.tolist()\n",
    "valores_y=df[\"presion_sanguinea\"].value_counts().tolist()\n",
    "print(valores_x)\n",
    "print(valores_y)\n",
    "plt.bar(valores_x,valores_y)\n",
    "plt.show"
   ]
  },
  {
   "cell_type": "markdown",
   "id": "8c4e324a",
   "metadata": {},
   "source": [
    "Se puede observar que la mayoria esta con presion normal, tambien que el numero de presion baja y alta es el mismo "
   ]
  },
  {
   "cell_type": "code",
   "execution_count": 10,
   "id": "f2b56965",
   "metadata": {},
   "outputs": [
    {
     "name": "stdout",
     "output_type": "stream",
     "text": [
      "[0, 1]\n",
      "[50, 30]\n"
     ]
    },
    {
     "data": {
      "text/plain": [
       "<function matplotlib.pyplot.show(close=None, block=None)>"
      ]
     },
     "execution_count": 10,
     "metadata": {},
     "output_type": "execute_result"
    },
    {
     "data": {
      "image/png": "[encoded data removed]",
      "text/plain": [
       "<Figure size 432x288 with 1 Axes>"
      ]
     },
     "metadata": {
      "needs_background": "light"
     },
     "output_type": "display_data"
    }
   ],
   "source": [
    "import matplotlib.pyplot as plt\n",
    "valores_x=df[\"problema_corazon\"].value_counts().index.tolist()\n",
    "valores_y=df[\"problema_corazon\"].value_counts().tolist()\n",
    "print(valores_x)\n",
    "print(valores_y)\n",
    "plt.bar(valores_x,valores_y)\n",
    "plt.show"
   ]
  },
  {
   "cell_type": "markdown",
   "id": "03bbdb96",
   "metadata": {},
   "source": [
    "Se puede observa que la mayoria de las mujeres no tiene problemas del corazon"
   ]
  },
  {
   "cell_type": "code",
   "execution_count": null,
   "id": "9663fcee",
   "metadata": {},
   "outputs": [],
   "source": []
  },
  {
   "cell_type": "code",
   "execution_count": null,
   "id": "8dfbc6bf",
   "metadata": {},
   "outputs": [],
   "source": []
  }
 ],
 "metadata": {
  "kernelspec": {
   "display_name": "Python 3 (ipykernel)",
   "language": "python",
   "name": "python3"
  },
  "language_info": {
   "codemirror_mode": {
    "name": "ipython",
    "version": 3
   },
   "file_extension": ".py",
   "mimetype": "text/x-python",
   "name": "python",
   "nbconvert_exporter": "python",
   "pygments_lexer": "ipython3",
   "version": "3.9.7"
  }
 },
 "nbformat": 4,
 "nbformat_minor": 5
}
